{
  "cells": [
    {
      "cell_type": "code",
      "execution_count": 5,
      "id": "6a23ec54",
      "metadata": {
        "vscode": {
          "languageId": "plaintext"
        },
        "id": "6a23ec54"
      },
      "outputs": [],
      "source": [
        "import numpy as np # linear algebra\n",
        "import pandas as pd # data processing, CSV file I/O (e.g. pd.read_csv)\n",
        "import matplotlib.pyplot as plt\n",
        "import tensorflow as tf\n",
        "from tensorflow import keras\n",
        "import cv2\n",
        "import seaborn as sns\n",
        "import glob as glob\n",
        "import xml.etree.ElementTree as ET\n",
        "from PIL import Image\n",
        "import os\n",
        "import shutil\n",
        "import json\n",
        "from pathlib import Path\n"
      ]
    },
    {
      "cell_type": "code",
      "source": [
        "base_dir = \"/Downloads/CV_dataset\"\n",
        "ann_dir = os.path.join(base_dir, \"ann\")\n",
        "img_dir = os.path.join(base_dir, \"img\")"
      ],
      "metadata": {
        "id": "ZLx3qjqJJLIz"
      },
      "id": "ZLx3qjqJJLIz",
      "execution_count": 6,
      "outputs": []
    },
    {
      "cell_type": "code",
      "source": [
        "def visualize_yolo_masks(num_samples=4):\n",
        "    \"\"\"Visualize images with YOLO segmentation masks\"\"\"\n",
        "\n",
        "    # Get all image files\n",
        "    image_files = glob(os.path.join(img_dir, \"*.png\"))\n",
        "\n",
        "    if not image_files:\n",
        "        print(f\"❌ No image files found in {img_dir}\")\n",
        "        return\n",
        "\n",
        "    print(f\"Found {len(image_files)} images\")\n",
        "\n",
        "    # Show first few samples\n",
        "    for i, image_file in enumerate(image_files[:num_samples]):\n",
        "        # Load image\n",
        "        image = cv2.imread(image_file)\n",
        "        image = cv2.cvtColor(image, cv2.COLOR_BGR2RGB)\n",
        "        height, width = image.shape[:2]\n",
        "\n",
        "        # Get corresponding label file\n",
        "        base_name = os.path.splitext(os.path.basename(image_file))[0]\n",
        "        label_file = os.path.join(ann_dir, base_name + \".txt\")\n",
        "\n",
        "        # Create a copy for drawing\n",
        "        image_with_mask = image.copy()\n",
        "\n",
        "        if os.path.exists(label_file):\n",
        "            # Read YOLO segmentation annotations\n",
        "            with open(label_file, 'r') as f:\n",
        "                lines = f.readlines()\n",
        "\n",
        "            print(f\"Sample {i+1}: {len(lines)} person(s) in {os.path.basename(image_file)}\")\n",
        "\n",
        "            for line in lines:\n",
        "                parts = line.strip().split()\n",
        "                if len(parts) < 6:  # Need at least class + bbox + 1 polygon point\n",
        "                    continue\n",
        "\n",
        "                # Parse YOLO segmentation format: class bbox_x bbox_y bbox_w bbox_h polygon_points...\n",
        "                class_id = int(parts[0])\n",
        "                polygon_points = []\n",
        "\n",
        "                # Parse polygon points (skip first 5 bbox values)\n",
        "                for j in range(5, len(parts), 2):\n",
        "                    if j + 1 < len(parts):\n",
        "                        x = float(parts[j]) * width\n",
        "                        y = float(parts[j + 1]) * height\n",
        "                        polygon_points.append([x, y])\n",
        "\n",
        "                # Draw polygon mask\n",
        "                if len(polygon_points) > 2:\n",
        "                    pts = np.array(polygon_points, np.int32)\n",
        "\n",
        "                    # Create filled mask\n",
        "                    mask = np.zeros((height, width), dtype=np.uint8)\n",
        "                    cv2.fillPoly(mask, [pts], 255)\n",
        "\n",
        "                    # Create colored overlay\n",
        "                    overlay = image_with_mask.copy()\n",
        "                    cv2.fillPoly(overlay, [pts], (255, 0, 0))  # Blue fill\n",
        "\n",
        "                    # Blend overlay with original image\n",
        "                    alpha = 0.3  # Transparency\n",
        "                    image_with_mask = cv2.addWeighted(overlay, alpha, image_with_mask, 1 - alpha, 0)\n",
        "\n",
        "                    # Draw polygon outline\n",
        "                    cv2.polylines(image_with_mask, [pts], True, (0, 255, 0), 2)  # Green outline\n",
        "\n",
        "                    # Draw bounding box (from YOLO bbox)\n",
        "                    bbox_x = float(parts[1]) * width\n",
        "                    bbox_y = float(parts[2]) * height\n",
        "                    bbox_w = float(parts[3]) * width\n",
        "                    bbox_h = float(parts[4]) * height\n",
        "\n",
        "                    x1 = int(bbox_x - bbox_w / 2)\n",
        "                    y1 = int(bbox_y - bbox_h / 2)\n",
        "                    x2 = int(bbox_x + bbox_w / 2)\n",
        "                    y2 = int(bbox_y + bbox_h / 2)\n",
        "\n",
        "                    cv2.rectangle(image_with_mask, (x1, y1), (x2, y2), (255, 255, 0), 2)  # Cyan bbox\n",
        "\n",
        "                    # Add label\n",
        "                    cv2.putText(image_with_mask, f'Person {class_id}', (x1, y1 - 10),\n",
        "                               cv2.FONT_HERSHEY_SIMPLEX, 0.7, (255, 255, 255), 2)\n",
        "\n",
        "        else:\n",
        "            print(f\"❌ No label file found: {label_file}\")\n",
        "            image_with_mask = image\n",
        "\n",
        "        # Display\n",
        "        plt.figure(figsize=(12, 6))\n",
        "\n",
        "        plt.subplot(1, 2, 1)\n",
        "        plt.imshow(image)\n",
        "        plt.title(f\"Original: {os.path.basename(image_file)}\")\n",
        "        plt.axis('off')\n",
        "\n",
        "        plt.subplot(1, 2, 2)\n",
        "        plt.imshow(image_with_mask)\n",
        "        plt.title(f\"With Masks: {len(lines) if os.path.exists(label_file) else 0} person(s)\")\n",
        "        plt.axis('off')\n",
        "\n",
        "        plt.tight_layout()\n",
        "        plt.show()"
      ],
      "metadata": {
        "id": "0gAW5QThJqa2"
      },
      "id": "0gAW5QThJqa2",
      "execution_count": 7,
      "outputs": []
    },
    {
      "cell_type": "code",
      "source": [
        "visualize_yolo_masks(4)"
      ],
      "metadata": {
        "id": "iTvqEgdLMZYe",
        "outputId": "28bd5b43-047e-440c-8d75-f4dc2b7ce583",
        "colab": {
          "base_uri": "https://localhost:8080/",
          "height": 269
        }
      },
      "id": "iTvqEgdLMZYe",
      "execution_count": 8,
      "outputs": [
        {
          "output_type": "error",
          "ename": "TypeError",
          "evalue": "'module' object is not callable. Did you mean: 'glob.glob(...)'?",
          "traceback": [
            "\u001b[31m---------------------------------------------------------------------------\u001b[39m",
            "\u001b[31mTypeError\u001b[39m                                 Traceback (most recent call last)",
            "\u001b[36mCell\u001b[39m\u001b[36m \u001b[39m\u001b[32mIn[8]\u001b[39m\u001b[32m, line 1\u001b[39m\n\u001b[32m----> \u001b[39m\u001b[32m1\u001b[39m \u001b[43mvisualize_yolo_masks\u001b[49m\u001b[43m(\u001b[49m\u001b[32;43m4\u001b[39;49m\u001b[43m)\u001b[49m\n",
            "\u001b[36mCell\u001b[39m\u001b[36m \u001b[39m\u001b[32mIn[7]\u001b[39m\u001b[32m, line 5\u001b[39m, in \u001b[36mvisualize_yolo_masks\u001b[39m\u001b[34m(num_samples)\u001b[39m\n\u001b[32m      2\u001b[39m \u001b[38;5;250m\u001b[39m\u001b[33;03m\"\"\"Visualize images with YOLO segmentation masks\"\"\"\u001b[39;00m\n\u001b[32m      4\u001b[39m \u001b[38;5;66;03m# Get all image files\u001b[39;00m\n\u001b[32m----> \u001b[39m\u001b[32m5\u001b[39m image_files = \u001b[43mglob\u001b[49m\u001b[43m(\u001b[49m\u001b[43mos\u001b[49m\u001b[43m.\u001b[49m\u001b[43mpath\u001b[49m\u001b[43m.\u001b[49m\u001b[43mjoin\u001b[49m\u001b[43m(\u001b[49m\u001b[43mimg_dir\u001b[49m\u001b[43m,\u001b[49m\u001b[43m \u001b[49m\u001b[33;43m\"\u001b[39;49m\u001b[33;43m*.png\u001b[39;49m\u001b[33;43m\"\u001b[39;49m\u001b[43m)\u001b[49m\u001b[43m)\u001b[49m\n\u001b[32m      7\u001b[39m \u001b[38;5;28;01mif\u001b[39;00m \u001b[38;5;129;01mnot\u001b[39;00m image_files:\n\u001b[32m      8\u001b[39m     \u001b[38;5;28mprint\u001b[39m(\u001b[33mf\u001b[39m\u001b[33m\"\u001b[39m\u001b[33m❌ No image files found in \u001b[39m\u001b[38;5;132;01m{\u001b[39;00mimg_dir\u001b[38;5;132;01m}\u001b[39;00m\u001b[33m\"\u001b[39m)\n",
            "\u001b[31mTypeError\u001b[39m: 'module' object is not callable. Did you mean: 'glob.glob(...)'?"
          ]
        }
      ]
    }
  ],
  "metadata": {
    "language_info": {
      "name": "python"
    },
    "colab": {
      "provenance": []
    },
    "kernelspec": {
      "name": "python3",
      "display_name": "Python 3"
    }
  },
  "nbformat": 4,
  "nbformat_minor": 5
}